{
 "cells": [
  {
   "cell_type": "code",
   "execution_count": 33,
   "id": "499e2c54",
   "metadata": {},
   "outputs": [],
   "source": [
    "import seaborn as sb\n",
    "import numpy as np\n",
    "import sklearn as sk\n",
    "import matplotlib.pyplot as plt\n",
    "import pandas as pd\n",
    "from sklearn.preprocessing import StandardScaler, MinMaxScaler, MaxAbsScaler\n",
    "from termcolor import colored as cl\n",
    "from sklearn.model_selection import train_test_split, GridSearchCV\n",
    "from sklearn.linear_model import LogisticRegression\n",
    "from sklearn.metrics import f1_score\n",
    "from sklearn.metrics import accuracy_score\n",
    "from sklearn.metrics import confusion_matrix"
   ]
  },
  {
   "cell_type": "code",
   "execution_count": 10,
   "id": "c684a9b7",
   "metadata": {},
   "outputs": [],
   "source": [
    "card_data=pd.read_csv(\"C:/Users/91986/Downloads/archive.zip\")\n"
   ]
  },
  {
   "cell_type": "code",
   "execution_count": 15,
   "id": "b7b77846",
   "metadata": {},
   "outputs": [
    {
     "name": "stdout",
     "output_type": "stream",
     "text": [
      "Total Number of Transactions : 284807\n",
      "Number of Normal Transactions : 284315\n",
      "Number of Fraudulent Transactions : 492\n",
      "Percentage of Fraud Transactions : 0.17\n"
     ]
    }
   ],
   "source": [
    "Total_transactions = len(card_data)\n",
    "normal_transactions = len(card_data[card_data.Class == 0])\n",
    "fraud_transactions = len(card_data[card_data.Class == 1])\n",
    "percentage_fraud = round(fraud_transactions/normal_transactions*100, 2)\n",
    "print(cl('Total Number of Transactions : {}'.format(Total_transactions), attrs = ['bold']))\n",
    "print(cl('Number of Normal Transactions : {}'.format(normal_transactions), attrs = ['bold']))\n",
    "print(cl('Number of Fraudulent Transactions : {}'.format(fraud_transactions), attrs = ['bold']))\n",
    "print(cl('Percentage of Fraud Transactions : {}'.format(percentage_fraud), attrs = ['bold']))"
   ]
  },
  {
   "cell_type": "code",
   "execution_count": 21,
   "id": "38a6b64d",
   "metadata": {},
   "outputs": [],
   "source": [
    "sc = StandardScaler()\n",
    "amount = card_data['Amount'].values\n",
    "card_data['Amount'] = sc.fit_transform(amount.reshape(-1, 1))"
   ]
  },
  {
   "cell_type": "code",
   "execution_count": 23,
   "id": "e668e1e3",
   "metadata": {},
   "outputs": [],
   "source": [
    "card_data.drop_duplicates(inplace=True) #to remove duplicates"
   ]
  },
  {
   "cell_type": "raw",
   "id": "faba5a6b",
   "metadata": {},
   "source": [
    "card_data.shape()"
   ]
  },
  {
   "cell_type": "markdown",
   "id": "15256c4b",
   "metadata": {},
   "source": [
    "# Train "
   ]
  },
  {
   "cell_type": "code",
   "execution_count": 24,
   "id": "df60d6e7",
   "metadata": {},
   "outputs": [],
   "source": [
    "X = card_data.drop('Class', axis = 1).values\n",
    "Y = card_data['Class'].values"
   ]
  },
  {
   "cell_type": "code",
   "execution_count": 28,
   "id": "656ee16e",
   "metadata": {},
   "outputs": [],
   "source": [
    "X_train, X_test, Y_train, Y_test = train_test_split(X, Y, test_size = 0.25, random_state = 1)"
   ]
  },
  {
   "cell_type": "code",
   "execution_count": 30,
   "id": "ba3bfacb",
   "metadata": {},
   "outputs": [
    {
     "name": "stderr",
     "output_type": "stream",
     "text": [
      "C:\\Users\\91986\\anaconda3\\lib\\site-packages\\sklearn\\linear_model\\_logistic.py:814: ConvergenceWarning: lbfgs failed to converge (status=1):\n",
      "STOP: TOTAL NO. of ITERATIONS REACHED LIMIT.\n",
      "\n",
      "Increase the number of iterations (max_iter) or scale the data as shown in:\n",
      "    https://scikit-learn.org/stable/modules/preprocessing.html\n",
      "Please also refer to the documentation for alternative solver options:\n",
      "    https://scikit-learn.org/stable/modules/linear_model.html#logistic-regression\n",
      "  n_iter_i = _check_optimize_result(\n"
     ]
    }
   ],
   "source": [
    "lr = LogisticRegression()\n",
    "lr.fit(X_train, Y_train)\n",
    "lr_yhat = lr.predict(X_test)"
   ]
  },
  {
   "cell_type": "code",
   "execution_count": 35,
   "id": "7bd0e7fc",
   "metadata": {},
   "outputs": [
    {
     "name": "stdout",
     "output_type": "stream",
     "text": [
      "Accuracy score of the Logistic Regression model is 0.9990131393447246\n"
     ]
    }
   ],
   "source": [
    "print('Accuracy score of the Logistic Regression model is {}'.format(accuracy_score(Y_test, lr_yhat)))"
   ]
  },
  {
   "cell_type": "code",
   "execution_count": 36,
   "id": "a5890100",
   "metadata": {},
   "outputs": [
    {
     "name": "stdout",
     "output_type": "stream",
     "text": [
      "F1 score of the Logistic Regression model is 0.6666666666666666\n"
     ]
    }
   ],
   "source": [
    "print('F1 score of the Logistic Regression model is {}'.format(f1_score(Y_test, lr_yhat)))"
   ]
  },
  {
   "cell_type": "code",
   "execution_count": null,
   "id": "f8280615",
   "metadata": {},
   "outputs": [],
   "source": []
  }
 ],
 "metadata": {
  "kernelspec": {
   "display_name": "Python 3 (ipykernel)",
   "language": "python",
   "name": "python3"
  },
  "language_info": {
   "codemirror_mode": {
    "name": "ipython",
    "version": 3
   },
   "file_extension": ".py",
   "mimetype": "text/x-python",
   "name": "python",
   "nbconvert_exporter": "python",
   "pygments_lexer": "ipython3",
   "version": "3.9.13"
  }
 },
 "nbformat": 4,
 "nbformat_minor": 5
}
